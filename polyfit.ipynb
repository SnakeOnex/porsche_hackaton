{
 "cells": [
  {
   "cell_type": "code",
   "execution_count": null,
   "metadata": {},
   "outputs": [],
   "source": [
    "import numpy as np\n",
    "import matplotlib.pyplot as plt\n",
    "from pathlib import Path\n",
    "from sklearn import *\n",
    "import cv2\n",
    "import time\n",
    "import numpy as np\n",
    "from lane_detection import detect_lane, detect_edges, region_of_interest, detect_line_segments, average_slope_intercept\n",
    "from heading import *\n",
    "import math\n",
    "from sklearn.cluster import DBSCAN\n",
    "%load_ext autoreload\n",
    "%autoreload 3"
   ]
  },
  {
   "cell_type": "code",
   "execution_count": null,
   "metadata": {},
   "outputs": [],
   "source": [
    "images_dir = Path('CarlaData/images_stress/').resolve()\n",
    "files = list(images_dir.glob('*.png'))\n",
    "files.sort()\n",
    "files[:5]"
   ]
  },
  {
   "cell_type": "code",
   "execution_count": null,
   "metadata": {},
   "outputs": [],
   "source": [
    "def load_frame(imname, cvt_color=True):\n",
    "    img = cv2.imread(str(imname))\n",
    "    if cvt_color:\n",
    "        img = cv2.cvtColor(img, cv2.COLOR_BGR2RGB)\n",
    "    return img"
   ]
  },
  {
   "cell_type": "code",
   "execution_count": null,
   "metadata": {},
   "outputs": [],
   "source": [
    "# show images\n",
    "fig, ax = plt.subplots(1, len(files), figsize=(15, 5), dpi=300)\n",
    "for i, f in enumerate(files):\n",
    "    img = load_frame(f)\n",
    "    ax[i].imshow(img)\n",
    "    ax[i].axis('off')\n",
    "    ax[i].set_title(f.name)\n",
    "plt.show()"
   ]
  },
  {
   "cell_type": "code",
   "execution_count": null,
   "metadata": {},
   "outputs": [],
   "source": [
    "from center_line import CenterLinePredictor\n",
    "\n",
    "# roi_points=[[0.0, 0.0], [1.0, 0.0], [1.0, 1.0], [0.0, 1.0]],\n",
    "#roi_points = [[0.41, 0.42], [0.58, 0.42], [0.58, 0.78], [0.41, 0.78]],\n",
    "predictor = CenterLinePredictor(imsize=(640,360))"
   ]
  },
  {
   "cell_type": "code",
   "execution_count": null,
   "metadata": {},
   "outputs": [],
   "source": [
    "for f in files:\n",
    "    image = load_frame(f, cvt_color=False)\n",
    "    plt.imshow(image)\n",
    "    plt.show()\n",
    "    resized_image = cv2.resize(\n",
    "                image, predictor.imsize, interpolation=cv2.INTER_AREA)\n",
    "    edges, mask = predictor.detect_edges(resized_image, return_mask=True)\n",
    "    roi_mask = predictor.crop_to_roi(mask, invert=True)\n",
    "    plt.imshow(roi_mask)\n",
    "    plt.show()\n",
    "    clustering_points = np.argwhere(roi_mask>0)\n",
    "    db = DBSCAN(eps=5, min_samples=10).fit(clustering_points)\n",
    "    labels = db.labels_\n",
    "    # Number of clusters in labels, ignoring noise if present\n",
    "    n_clusters_ = len(set(labels)) - (1 if -1 in labels else 0)\n",
    "    print(\"Number of clusters is:\", n_clusters_)\n",
    "    # Now, you can iterate over your clusters and fit polynomials\n",
    "    clusters = []\n",
    "    for k in range(n_clusters_):\n",
    "        class_member_mask = (labels == k)\n",
    "        print(\"Number of points in cluster\", k, \"is:\", np.sum(class_member_mask))\n",
    "        cluster_points = clustering_points[class_member_mask]\n",
    "        clusters.append([class_member_mask.sum(), cluster_points])\n",
    "        plt.plot(cluster_points[:, 0], cluster_points[:, 1], 'o', label=f'cluster {k}')\n",
    "        plt.legend()\n",
    "    plt.show()\n",
    "    \n",
    "    # now merge clusters to get only 2 large ones and segment them to left and right\n",
    "    thresh = image.shape[1] / 2\n",
    "    clusters.sort(key=lambda x: x[0], reverse=True)\n",
    "    clusters = clusters[:3] if len(clusters) > 3 else clusters\n",
    "    left_cluster = None\n",
    "    right_cluster = None\n",
    "    mean_x_coord = lambda arr: np.mean(arr[:, 1])\n",
    "    if len(clusters) > 2:\n",
    "        first_cluster_size = clusters[0][0]\n",
    "        second_cluster_size = clusters[1][0]\n",
    "        third_cluster_size = clusters[2][0]\n",
    "        if third_cluster_size >= 0.15 * min(first_cluster_size, second_cluster_size):\n",
    "            mean_x_coord_first = mean_x_coord(clusters[0][1])\n",
    "            mean_x_coord_second = mean_x_coord(clusters[1][1])\n",
    "            mean_x_coord_third = mean_x_coord(clusters[2][1])\n",
    "            dist_third_to_first = abs(mean_x_coord_first - mean_x_coord_third)\n",
    "            dist_third_to_second = abs(mean_x_coord_second - mean_x_coord_third)\n",
    "            if dist_third_to_first < dist_third_to_second:\n",
    "                clusters[0][1] = np.concatenate((clusters[0][1], clusters[2][1]))\n",
    "            else:\n",
    "                clusters[1][1] = np.concatenate((clusters[1][1], clusters[2][1]))\n",
    "\n",
    "    # now set left and right\n",
    "    first_cluster_points = clusters[0][1]\n",
    "    second_cluster_points = clusters[1][1]\n",
    "    mean_x_coord_first = mean_x_coord(first_cluster_points)\n",
    "    mean_x_coord_second = mean_x_coord(second_cluster_points)\n",
    "    if mean_x_coord_first < mean_x_coord_second:\n",
    "        left_cluster = first_cluster_points\n",
    "        right_cluster = second_cluster_points\n",
    "    else:\n",
    "        left_cluster = second_cluster_points\n",
    "        right_cluster = first_cluster_points\n",
    "    plt.plot(left_cluster[:, 0], left_cluster[:, 1], 'o', label='left')\n",
    "    plt.plot(right_cluster[:, 0], right_cluster[:, 1], 'o', label='right')\n",
    "    plt.legend()\n",
    "    plt.show()"
   ]
  },
  {
   "cell_type": "code",
   "execution_count": null,
   "metadata": {},
   "outputs": [],
   "source": [
    "for i, f in enumerate(files):\n",
    "    frame = load_frame(f, cvt_color=False)\n",
    "    try:\n",
    "        start = time.time()\n",
    "        predictor.predict_to_poly(frame, visualize=True)\n",
    "        end = time.time()\n",
    "        print(f'Frame {i} took {(end-start)*1000} milliseconds')\n",
    "    except Exception as e:\n",
    "        print(e)"
   ]
  }
 ],
 "metadata": {
  "kernelspec": {
   "display_name": ".venv",
   "language": "python",
   "name": "python3"
  },
  "language_info": {
   "codemirror_mode": {
    "name": "ipython",
    "version": 3
   },
   "file_extension": ".py",
   "mimetype": "text/x-python",
   "name": "python",
   "nbconvert_exporter": "python",
   "pygments_lexer": "ipython3",
   "version": "3.11.6"
  }
 },
 "nbformat": 4,
 "nbformat_minor": 2
}
